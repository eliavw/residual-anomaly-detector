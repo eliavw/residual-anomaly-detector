{
 "cells": [
  {
   "cell_type": "markdown",
   "metadata": {
    "collapsed": "false"
   },
   "source": [
    "N.b.: This notebook and other deployment workflows should end up in the cookiecutter to make one-click, documented workflows to automate important tasks for all future projects."
   ]
  },
  {
   "cell_type": "markdown",
   "metadata": {},
   "source": [
    "# Publish to PIP\n",
    "\n",
    "Exectuable guide of how to publish your project on PyPi."
   ]
  },
  {
   "cell_type": "markdown",
   "metadata": {
    "collapsed": "false"
   },
   "source": [
    "## Imports"
   ]
  },
  {
   "cell_type": "code",
   "execution_count": null,
   "metadata": {},
   "outputs": [],
   "source": [
    "import os\n",
    "from os.path import dirname\n",
    "\n",
    "import getpass\n",
    "import configparser\n",
    "import semantic_version\n",
    "\n",
    "root_dir = dirname(dirname(os.getcwd()))\n",
    "fn_setup_cfg = os.path.join(root_dir, 'setup.cfg')"
   ]
  },
  {
   "cell_type": "markdown",
   "metadata": {
    "collapsed": "false"
   },
   "source": [
    "## Functions"
   ]
  },
  {
   "cell_type": "code",
   "execution_count": null,
   "metadata": {},
   "outputs": [],
   "source": [
    "def get_config(fn_setup_cfg):\n",
    "    config = configparser.ConfigParser()\n",
    "    config.read(fn_setup_cfg)\n",
    "    return config\n",
    "\n",
    "def update_version(fn_setup_cfg, major=False, minor=False, patch=True, verbose=True):\n",
    "    assert sum([major, minor, patch]) == 1, \"Only one version number can be changed.\"\n",
    "    \n",
    "    # Load config\n",
    "    config = get_config(fn_setup_cfg)\n",
    "    \n",
    "    # Get version\n",
    "    v = semantic_version.Version(config['metadata'].get('version', '0.0.0'))\n",
    "    \n",
    "    # Update version\n",
    "    if patch:\n",
    "        config['metadata']['version'] = str(v.next_patch())\n",
    "    elif minor:\n",
    "        config['metadata']['version'] = str(v.next_minor())\n",
    "    elif major:\n",
    "        config['metadata']['version'] = str(v.next_major())\n",
    "        \n",
    "    if verbose:\n",
    "        msg = \"\"\"\n",
    "        Version updated to: {}\n",
    "        \"\"\".format(config['metadata']['version'])\n",
    "        print(msg)\n",
    "        \n",
    "    # Save config\n",
    "    with open(fn_setup_cfg, 'w') as f:\n",
    "        config.write(f)\n",
    "    return str(config['metadata']['version'])"
   ]
  },
  {
   "cell_type": "markdown",
   "metadata": {
    "collapsed": "false"
   },
   "source": [
    "PyPi\n",
    "----\n",
    "\n",
    "Make your project publicly available on the Python Package Index, [PyPi](https://pypi.org/). To achieve this, we need **remote dependency managment**, since you want your software to run without forcing the users to recreate your conda environments. All dependencies have to be managed, automatically, during installation. To make this work, we need to do some extra work.\n",
    "\n",
    "We follow the steps as outlined in the most basic (and official) [PyPi tutorial](https://packaging.python.org/tutorials/packaging-projects/)."
   ]
  },
  {
   "cell_type": "markdown",
   "metadata": {
    "collapsed": "false"
   },
   "source": [
    "### Generate distribution archives\n",
    "\n",
    "Generate distribution packages for the package. These are archives that are uploaded to the Package Index and can be installed by pip."
   ]
  },
  {
   "cell_type": "code",
   "execution_count": null,
   "metadata": {},
   "outputs": [],
   "source": [
    "print(\"Root directory is {}\".format(root_dir))"
   ]
  },
  {
   "cell_type": "markdown",
   "metadata": {
    "collapsed": "false"
   },
   "source": [
    "We also update the version. PIP does not accept another identical file, since it keeps a complete history. Thus, we always must at least update the patch in order to push our thing to PIP. We do so automatically by adapting the versioning number in the `setup.cfg` file."
   ]
  },
  {
   "cell_type": "code",
   "execution_count": 4,
   "metadata": {},
   "outputs": [],
   "source": [
    "version = update_version(fn_setup_cfg, patch=True)"
   ]
  },
  {
   "cell_type": "code",
   "execution_count": 5,
   "metadata": {},
   "outputs": [
    {
     "name": "stdout",
     "output_type": "stream",
     "text": [
      "running sdist\n",
      "running egg_info\n",
      "writing src/residual_anomaly_detector.egg-info/PKG-INFO\n",
      "writing dependency_links to src/residual_anomaly_detector.egg-info/dependency_links.txt\n",
      "writing requirements to src/residual_anomaly_detector.egg-info/requires.txt\n",
      "writing top-level names to src/residual_anomaly_detector.egg-info/top_level.txt\n",
      "reading manifest file 'src/residual_anomaly_detector.egg-info/SOURCES.txt'\n",
      "writing manifest file 'src/residual_anomaly_detector.egg-info/SOURCES.txt'\n",
      "running check\n",
      "creating residual-anomaly-detector-0.0.1\n",
      "creating residual-anomaly-detector-0.0.1/src\n",
      "creating residual-anomaly-detector-0.0.1/src/residual_anomaly_detector\n",
      "creating residual-anomaly-detector-0.0.1/src/residual_anomaly_detector.egg-info\n",
      "creating residual-anomaly-detector-0.0.1/src/residual_anomaly_detector/exps\n",
      "copying files to residual-anomaly-detector-0.0.1...\n",
      "copying README.md -> residual-anomaly-detector-0.0.1\n",
      "copying setup.cfg -> residual-anomaly-detector-0.0.1\n",
      "copying setup.py -> residual-anomaly-detector-0.0.1\n",
      "copying src/residual_anomaly_detector/ResidualAnomalyDetector.py -> residual-anomaly-detector-0.0.1/src/residual_anomaly_detector\n",
      "copying src/residual_anomaly_detector/__init__.py -> residual-anomaly-detector-0.0.1/src/residual_anomaly_detector\n",
      "copying src/residual_anomaly_detector.egg-info/PKG-INFO -> residual-anomaly-detector-0.0.1/src/residual_anomaly_detector.egg-info\n",
      "copying src/residual_anomaly_detector.egg-info/SOURCES.txt -> residual-anomaly-detector-0.0.1/src/residual_anomaly_detector.egg-info\n",
      "copying src/residual_anomaly_detector.egg-info/dependency_links.txt -> residual-anomaly-detector-0.0.1/src/residual_anomaly_detector.egg-info\n",
      "copying src/residual_anomaly_detector.egg-info/not-zip-safe -> residual-anomaly-detector-0.0.1/src/residual_anomaly_detector.egg-info\n",
      "copying src/residual_anomaly_detector.egg-info/requires.txt -> residual-anomaly-detector-0.0.1/src/residual_anomaly_detector.egg-info\n",
      "copying src/residual_anomaly_detector.egg-info/top_level.txt -> residual-anomaly-detector-0.0.1/src/residual_anomaly_detector.egg-info\n",
      "copying src/residual_anomaly_detector/exps/StarAiFlow.py -> residual-anomaly-detector-0.0.1/src/residual_anomaly_detector/exps\n",
      "copying src/residual_anomaly_detector/exps/__init__.py -> residual-anomaly-detector-0.0.1/src/residual_anomaly_detector/exps\n",
      "copying src/residual_anomaly_detector/exps/io.py -> residual-anomaly-detector-0.0.1/src/residual_anomaly_detector/exps\n",
      "Writing residual-anomaly-detector-0.0.1/setup.cfg\n",
      "creating dist\n",
      "Creating tar archive\n",
      "removing 'residual-anomaly-detector-0.0.1' (and everything under it)\n",
      "running bdist_wheel\n",
      "running build\n",
      "running build_py\n",
      "creating build\n",
      "creating build/lib\n",
      "creating build/lib/residual_anomaly_detector\n",
      "copying src/residual_anomaly_detector/ResidualAnomalyDetector.py -> build/lib/residual_anomaly_detector\n",
      "copying src/residual_anomaly_detector/__init__.py -> build/lib/residual_anomaly_detector\n",
      "creating build/lib/residual_anomaly_detector/exps\n",
      "copying src/residual_anomaly_detector/exps/StarAiFlow.py -> build/lib/residual_anomaly_detector/exps\n",
      "copying src/residual_anomaly_detector/exps/__init__.py -> build/lib/residual_anomaly_detector/exps\n",
      "copying src/residual_anomaly_detector/exps/io.py -> build/lib/residual_anomaly_detector/exps\n",
      "installing to build/bdist.linux-x86_64/wheel\n",
      "running install\n",
      "running install_lib\n",
      "creating build/bdist.linux-x86_64\n",
      "creating build/bdist.linux-x86_64/wheel\n",
      "creating build/bdist.linux-x86_64/wheel/residual_anomaly_detector\n",
      "creating build/bdist.linux-x86_64/wheel/residual_anomaly_detector/exps\n",
      "copying build/lib/residual_anomaly_detector/exps/StarAiFlow.py -> build/bdist.linux-x86_64/wheel/residual_anomaly_detector/exps\n",
      "copying build/lib/residual_anomaly_detector/exps/__init__.py -> build/bdist.linux-x86_64/wheel/residual_anomaly_detector/exps\n",
      "copying build/lib/residual_anomaly_detector/exps/io.py -> build/bdist.linux-x86_64/wheel/residual_anomaly_detector/exps\n",
      "copying build/lib/residual_anomaly_detector/ResidualAnomalyDetector.py -> build/bdist.linux-x86_64/wheel/residual_anomaly_detector\n",
      "copying build/lib/residual_anomaly_detector/__init__.py -> build/bdist.linux-x86_64/wheel/residual_anomaly_detector\n",
      "running install_egg_info\n",
      "Copying src/residual_anomaly_detector.egg-info to build/bdist.linux-x86_64/wheel/residual_anomaly_detector-0.0.1-py3.7.egg-info\n",
      "running install_scripts\n",
      "adding license file \"LICENSE.txt\" (matched pattern \"LICEN[CS]E*\")\n",
      "adding license file \"AUTHORS.rst\" (matched pattern \"AUTHORS*\")\n",
      "creating build/bdist.linux-x86_64/wheel/residual_anomaly_detector-0.0.1.dist-info/WHEEL\n",
      "creating 'dist/residual_anomaly_detector-0.0.1-py2.py3-none-any.whl' and adding 'build/bdist.linux-x86_64/wheel' to it\n",
      "adding 'residual_anomaly_detector/ResidualAnomalyDetector.py'\n",
      "adding 'residual_anomaly_detector/__init__.py'\n",
      "adding 'residual_anomaly_detector/exps/StarAiFlow.py'\n",
      "adding 'residual_anomaly_detector/exps/__init__.py'\n",
      "adding 'residual_anomaly_detector/exps/io.py'\n",
      "adding 'residual_anomaly_detector-0.0.1.dist-info/AUTHORS.rst'\n",
      "adding 'residual_anomaly_detector-0.0.1.dist-info/LICENSE.txt'\n",
      "adding 'residual_anomaly_detector-0.0.1.dist-info/METADATA'\n",
      "adding 'residual_anomaly_detector-0.0.1.dist-info/WHEEL'\n",
      "adding 'residual_anomaly_detector-0.0.1.dist-info/top_level.txt'\n",
      "adding 'residual_anomaly_detector-0.0.1.dist-info/RECORD'\n",
      "removing build/bdist.linux-x86_64/wheel\n"
     ]
    }
   ],
   "source": [
    "%%bash -s \"$root_dir\"\n",
    "\n",
    "cd $1\n",
    "\n",
    "python setup.py sdist bdist_wheel"
   ]
  },
  {
   "cell_type": "markdown",
   "metadata": {
    "collapsed": "false"
   },
   "source": [
    "### Upload to test-PyPi\n",
    "\n",
    "After this, your package can be uploaded to the python package index. To see if it works on PyPi test server, the following"
   ]
  },
  {
   "cell_type": "code",
   "execution_count": 6,
   "metadata": {},
   "outputs": [
    {
     "name": "stdin",
     "output_type": "stream",
     "text": [
      " ······\n",
      " ··········\n"
     ]
    }
   ],
   "source": [
    "username = getpass.getpass()\n",
    "pwd = getpass.getpass()"
   ]
  },
  {
   "cell_type": "code",
   "execution_count": 7,
   "metadata": {},
   "outputs": [
    {
     "name": "stdout",
     "output_type": "stream",
     "text": [
      "Uploading distributions to https://test.pypi.org/legacy/\n",
      "Uploading residual_anomaly_detector-0.0.1-py2.py3-none-any.whl\n",
      "100%|██████████| 15.0k/15.0k [00:02<00:00, 6.99kB/s]\n",
      "Uploading residual-anomaly-detector-0.0.1.tar.gz\n",
      "100%|██████████| 12.7k/12.7k [00:01<00:00, 9.65kB/s]\n",
      "\n",
      "View at:\n",
      "https://test.pypi.org/project/residual-anomaly-detector/0.0.1/\n"
     ]
    },
    {
     "name": "stderr",
     "output_type": "stream",
     "text": [
      "\n",
      "cd $1\n",
      "\n",
      "python -m twine upload --repository-url https://test.pypi.org/legacy/ dist/*$4* -u $2 -p $3\n"
     ]
    }
   ],
   "source": [
    "%%bash --verbose -s \"$root_dir\" \"$username\" \"$pwd\" \"$version\"\n",
    "\n",
    "cd $1\n",
    "\n",
    "python -m twine upload --repository-url https://test.pypi.org/legacy/ dist/*$4* -u $2 -p $3"
   ]
  },
  {
   "cell_type": "markdown",
   "metadata": {},
   "source": [
    "# Upload to Real PyPi\n",
    "\n",
    "Test PyPi really does not work very well.."
   ]
  },
  {
   "cell_type": "code",
   "execution_count": 8,
   "metadata": {},
   "outputs": [
    {
     "name": "stdout",
     "output_type": "stream",
     "text": [
      "Uploading distributions to https://upload.pypi.org/legacy/\n",
      "Uploading residual_anomaly_detector-0.0.1-py2.py3-none-any.whl\n",
      "100%|██████████| 15.0k/15.0k [00:03<00:00, 4.56kB/s]\n",
      "Uploading residual-anomaly-detector-0.0.1.tar.gz\n",
      "100%|██████████| 12.7k/12.7k [00:01<00:00, 9.89kB/s]\n",
      "\n",
      "View at:\n",
      "https://pypi.org/project/residual-anomaly-detector/0.0.1/\n"
     ]
    },
    {
     "name": "stderr",
     "output_type": "stream",
     "text": [
      "\n",
      "cd $1\n",
      "\n",
      "python -m twine upload dist/*$4* -u $2 -p $3\n"
     ]
    }
   ],
   "source": [
    "%%bash --verbose -s \"$root_dir\" \"$username\" \"$pwd\" \"$version\"\n",
    "\n",
    "cd $1\n",
    "\n",
    "python -m twine upload dist/*$4* -u $2 -p $3"
   ]
  }
 ],
 "metadata": {
  "kernelspec": {
   "display_name": "residual_anomaly_detector",
   "language": "python",
   "name": "residual_anomaly_detector"
  },
  "language_info": {
   "codemirror_mode": {
    "name": "ipython",
    "version": 3
   },
   "file_extension": ".py",
   "mimetype": "text/x-python",
   "name": "python",
   "nbconvert_exporter": "python",
   "pygments_lexer": "ipython3",
   "version": "3.8.5"
  }
 },
 "nbformat": 4,
 "nbformat_minor": 4
}
