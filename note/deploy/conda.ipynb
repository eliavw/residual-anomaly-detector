{
 "cells": [
  {
   "cell_type": "markdown",
   "metadata": {},
   "source": [
    "# Conda Environments\n",
    "\n",
    "This notebook automatically configures a conda environment. This notebook is typically what you run before anything else in the project. In that way, you are set up with a controlled and isolated environment for further development/research."
   ]
  },
  {
   "cell_type": "markdown",
   "metadata": {
    "collapsed": "false"
   },
   "source": [
    "## Imports"
   ]
  },
  {
   "cell_type": "code",
   "execution_count": 1,
   "metadata": {},
   "outputs": [],
   "source": [
    "import os\n",
    "from os.path import dirname"
   ]
  },
  {
   "cell_type": "markdown",
   "metadata": {
    "collapsed": "false"
   },
   "source": [
    "## Initialization\n",
    "\n",
    "Some important variables to be used afterwards."
   ]
  },
  {
   "cell_type": "code",
   "execution_count": 2,
   "metadata": {},
   "outputs": [],
   "source": [
    "name = \"residual_anomaly_detector\"\n",
    "\n",
    "root_dir = dirname(dirname(os.getcwd()))\n",
    "\n",
    "fn_conda_dep = 'dependencies-deploy.yaml'\n",
    "fn_conda_dev = 'dependencies-develop.yaml'"
   ]
  },
  {
   "cell_type": "markdown",
   "metadata": {},
   "source": [
    "# Introduction\n",
    "\n",
    "This cookiecutter is set up for optimal use with conda, for local dependency managment. The takeaway is this; for local dependency managment, we rely on conda and nothing else.\n",
    "\n",
    "Note that this has nothing to do with remote dependency managment. This is what you need to take care of when preparing a release of your code which goes via PyPi or alternatives. We treat that as an independent problem. Mixing remote and local dependency managment tends to add complexity instead of removing it."
   ]
  },
  {
   "cell_type": "markdown",
   "metadata": {},
   "source": [
    "# Workflow\n",
    "\n",
    "We distinguish between `deployment` and `development` environments. Of course, in research this is not always that useful or clear. We follow this rule of thumb:\n",
    "\n",
    "```\n",
    "Everything that should end up in pip release, goes in deployment\n",
    "```\n",
    "\n",
    "Which still justifies keeping the two separated."
   ]
  },
  {
   "cell_type": "markdown",
   "metadata": {
    "collapsed": "false"
   },
   "source": [
    "## Deployment Environment\n",
    "\n",
    "This environment is whatever an end user may need in order to use your package.\n"
   ]
  },
  {
   "cell_type": "code",
   "execution_count": 3,
   "metadata": {},
   "outputs": [
    {
     "name": "stdout",
     "output_type": "stream",
     "text": [
      "# conda environments:\n",
      "#\n",
      "base                  *  /home/zissou/miniconda3\n",
      "admercs                  /home/zissou/miniconda3/envs/admercs\n",
      "avatar                   /home/zissou/miniconda3/envs/avatar\n",
      "mercs                    /home/zissou/miniconda3/envs/mercs\n",
      "synth-services           /home/zissou/miniconda3/envs/synth-services\n",
      "\n"
     ]
    }
   ],
   "source": [
    "%%bash -s \"$name\" \"$root_dir\" \"$fn_conda_dep\"\n",
    "\n",
    "source ~/.bashrc\n",
    "\n",
    "conda env list"
   ]
  },
  {
   "cell_type": "code",
   "execution_count": 4,
   "metadata": {},
   "outputs": [
    {
     "name": "stdout",
     "output_type": "stream",
     "text": [
      "Warning: you have pip-installed dependencies in your environment file, but you do not list pip itself as one of your conda dependencies.  Conda may not use the correct pip to install your packages, and they may end up in the wrong place.  Please add an explicit pip dependency.  I'm adding one for you, but still nagging you.\n",
      "Collecting package metadata (repodata.json): ...working... done\n",
      "Solving environment: ...working... done\n",
      "\n",
      "Downloading and Extracting Packages\n",
      "wheel-0.35.1         | 37 KB     | ########## | 100% \n",
      "python-3.8.5         | 49.3 MB   | ########## | 100% \n",
      "sqlite-3.33.0        | 1.1 MB    | ########## | 100% \n",
      "Preparing transaction: ...working... done\n",
      "Verifying transaction: ...working... done\n",
      "Executing transaction: ...working... done\n",
      "Installing pip dependencies: ...working... Ran pip subprocess with arguments:\n",
      "['/home/zissou/miniconda3/envs/residual_anomaly_detector/bin/python', '-m', 'pip', 'install', '-U', '-r', '/home/zissou/repos/residual-anomaly-detector/condaenv.z42vg2sv.requirements.txt']\n",
      "Pip subprocess output:\n",
      "Collecting numpy\n",
      "  Using cached numpy-1.19.1-cp38-cp38-manylinux2010_x86_64.whl (14.5 MB)\n",
      "Collecting scipy\n",
      "  Using cached scipy-1.5.2-cp38-cp38-manylinux1_x86_64.whl (25.7 MB)\n",
      "Collecting pandas\n",
      "  Using cached pandas-1.1.1-cp38-cp38-manylinux1_x86_64.whl (10.4 MB)\n",
      "Collecting ipython\n",
      "  Using cached ipython-7.18.1-py3-none-any.whl (786 kB)\n",
      "Collecting matplotlib\n",
      "  Using cached matplotlib-3.3.1-cp38-cp38-manylinux1_x86_64.whl (11.6 MB)\n",
      "Collecting scikit-learn\n",
      "  Using cached scikit_learn-0.23.2-cp38-cp38-manylinux1_x86_64.whl (6.8 MB)\n",
      "Collecting mercs\n",
      "  Downloading mercs-0.0.45-py3-none-any.whl (50 kB)\n",
      "Collecting pytz>=2017.2\n",
      "  Using cached pytz-2020.1-py2.py3-none-any.whl (510 kB)\n",
      "Collecting python-dateutil>=2.7.3\n",
      "  Using cached python_dateutil-2.8.1-py2.py3-none-any.whl (227 kB)\n",
      "Collecting decorator\n",
      "  Using cached decorator-4.4.2-py2.py3-none-any.whl (9.2 kB)\n",
      "Collecting pickleshare\n",
      "  Using cached pickleshare-0.7.5-py2.py3-none-any.whl (6.9 kB)\n",
      "Collecting backcall\n",
      "  Using cached backcall-0.2.0-py2.py3-none-any.whl (11 kB)\n",
      "Collecting pexpect>4.3; sys_platform != \"win32\"\n",
      "  Using cached pexpect-4.8.0-py2.py3-none-any.whl (59 kB)\n",
      "Collecting traitlets>=4.2\n",
      "  Downloading traitlets-5.0.2-py3-none-any.whl (97 kB)\n",
      "Collecting pygments\n",
      "  Using cached Pygments-2.6.1-py3-none-any.whl (914 kB)\n",
      "Collecting jedi>=0.10\n",
      "  Using cached jedi-0.17.2-py2.py3-none-any.whl (1.4 MB)\n",
      "Collecting prompt-toolkit!=3.0.0,!=3.0.1,<3.1.0,>=2.0.0\n",
      "  Using cached prompt_toolkit-3.0.7-py3-none-any.whl (355 kB)\n",
      "Requirement already satisfied, skipping upgrade: setuptools>=18.5 in /home/zissou/miniconda3/envs/residual_anomaly_detector/lib/python3.8/site-packages (from ipython->-r /home/zissou/repos/residual-anomaly-detector/condaenv.z42vg2sv.requirements.txt (line 4)) (49.6.0.post20200814)\n",
      "Requirement already satisfied, skipping upgrade: certifi>=2020.06.20 in /home/zissou/miniconda3/envs/residual_anomaly_detector/lib/python3.8/site-packages (from matplotlib->-r /home/zissou/repos/residual-anomaly-detector/condaenv.z42vg2sv.requirements.txt (line 5)) (2020.6.20)\n",
      "Collecting kiwisolver>=1.0.1\n",
      "  Using cached kiwisolver-1.2.0-cp38-cp38-manylinux1_x86_64.whl (92 kB)\n",
      "Collecting pyparsing!=2.0.4,!=2.1.2,!=2.1.6,>=2.0.3\n",
      "  Using cached pyparsing-2.4.7-py2.py3-none-any.whl (67 kB)\n",
      "Collecting pillow>=6.2.0\n",
      "  Using cached Pillow-7.2.0-cp38-cp38-manylinux1_x86_64.whl (2.2 MB)\n",
      "Collecting cycler>=0.10\n",
      "  Using cached cycler-0.10.0-py2.py3-none-any.whl (6.5 kB)\n",
      "Collecting joblib>=0.11\n",
      "  Using cached joblib-0.16.0-py3-none-any.whl (300 kB)\n",
      "Collecting threadpoolctl>=2.0.0\n",
      "  Using cached threadpoolctl-2.1.0-py3-none-any.whl (12 kB)\n",
      "Collecting networkx\n",
      "  Using cached networkx-2.5-py3-none-any.whl (1.6 MB)\n",
      "Processing /home/zissou/.cache/pip/wheels/95/cb/07/4fad1b66b2085b03eab34848c37d47d0782c53e3e57d277e8d/shap-0.36.0-cp38-cp38-linux_x86_64.whl\n",
      "Processing /home/zissou/.cache/pip/wheels/a5/2b/b5/05758d5828d65f2adef8fbb5d5484e4adb946ae1827a973a01/toolz-0.10.0-py3-none-any.whl\n",
      "Processing /home/zissou/.cache/pip/wheels/88/79/e5/598ba17e85eccf2626eab62e4ee8452895636cd542650d450d/tornado-6.0.4-cp38-cp38-linux_x86_64.whl\n",
      "Collecting dask\n",
      "  Using cached dask-2.25.0-py3-none-any.whl (834 kB)\n",
      "Collecting pydot\n",
      "  Using cached pydot-1.4.1-py2.py3-none-any.whl (19 kB)\n",
      "Collecting six>=1.5\n",
      "  Using cached six-1.15.0-py2.py3-none-any.whl (10 kB)\n",
      "Collecting ptyprocess>=0.5\n",
      "  Using cached ptyprocess-0.6.0-py2.py3-none-any.whl (39 kB)\n",
      "Collecting ipython-genutils\n",
      "  Using cached ipython_genutils-0.2.0-py2.py3-none-any.whl (26 kB)\n",
      "Collecting parso<0.8.0,>=0.7.0\n",
      "  Using cached parso-0.7.1-py2.py3-none-any.whl (109 kB)\n",
      "Collecting wcwidth\n",
      "  Using cached wcwidth-0.2.5-py2.py3-none-any.whl (30 kB)\n",
      "Collecting tqdm>4.25.0\n",
      "  Using cached tqdm-4.48.2-py2.py3-none-any.whl (68 kB)\n",
      "Collecting slicer\n",
      "  Using cached slicer-0.0.3-py3-none-any.whl (11 kB)\n",
      "Collecting numba\n",
      "  Downloading numba-0.51.2-cp38-cp38-manylinux2014_x86_64.whl (3.1 MB)\n",
      "Processing /home/zissou/.cache/pip/wheels/13/90/db/290ab3a34f2ef0b5a0f89235dc2d40fea83e77de84ed2dc05c/PyYAML-5.3.1-cp38-cp38-linux_x86_64.whl\n",
      "Collecting llvmlite<0.35,>=0.34.0.dev0\n",
      "  Using cached llvmlite-0.34.0-cp38-cp38-manylinux2010_x86_64.whl (24.6 MB)\n",
      "Installing collected packages: numpy, scipy, pytz, six, python-dateutil, pandas, decorator, pickleshare, backcall, ptyprocess, pexpect, ipython-genutils, traitlets, pygments, parso, jedi, wcwidth, prompt-toolkit, ipython, kiwisolver, pyparsing, pillow, cycler, matplotlib, joblib, threadpoolctl, scikit-learn, networkx, tqdm, slicer, llvmlite, numba, shap, toolz, tornado, pyyaml, dask, pydot, mercs\n",
      "Successfully installed backcall-0.2.0 cycler-0.10.0 dask-2.25.0 decorator-4.4.2 ipython-7.18.1 ipython-genutils-0.2.0 jedi-0.17.2 joblib-0.16.0 kiwisolver-1.2.0 llvmlite-0.34.0 matplotlib-3.3.1 mercs-0.0.45 networkx-2.5 numba-0.51.2 numpy-1.19.1 pandas-1.1.1 parso-0.7.1 pexpect-4.8.0 pickleshare-0.7.5 pillow-7.2.0 prompt-toolkit-3.0.7 ptyprocess-0.6.0 pydot-1.4.1 pygments-2.6.1 pyparsing-2.4.7 python-dateutil-2.8.1 pytz-2020.1 pyyaml-5.3.1 scikit-learn-0.23.2 scipy-1.5.2 shap-0.36.0 six-1.15.0 slicer-0.0.3 threadpoolctl-2.1.0 toolz-0.10.0 tornado-6.0.4 tqdm-4.48.2 traitlets-5.0.2 wcwidth-0.2.5\n",
      "\n",
      "done\n",
      "#\n",
      "# To activate this environment, use\n",
      "#\n",
      "#     $ conda activate residual_anomaly_detector\n",
      "#\n",
      "# To deactivate an active environment, use\n",
      "#\n",
      "#     $ conda deactivate\n",
      "\n"
     ]
    }
   ],
   "source": [
    "%%bash -s \"$name\" \"$root_dir\" \"$fn_conda_dep\"\n",
    "\n",
    "source ~/.bashrc\n",
    "\n",
    "cd $2\n",
    "\n",
    "conda env create -f $3 -n $1"
   ]
  },
  {
   "cell_type": "markdown",
   "metadata": {
    "collapsed": "false"
   },
   "source": [
    "### Installation of `AFFE` \n",
    "\n",
    "At some point, this will become better."
   ]
  },
  {
   "cell_type": "code",
   "execution_count": 5,
   "metadata": {},
   "outputs": [
    {
     "name": "stdout",
     "output_type": "stream",
     "text": [
      "Collecting git+https://github.com/eliavw/affe.git\n",
      "  Cloning https://github.com/eliavw/affe.git to /tmp/pip-req-build-0tnro31p\n",
      "Requirement already satisfied: numpy in /home/zissou/miniconda3/envs/residual_anomaly_detector/lib/python3.8/site-packages (from affe==0.0.0) (1.19.1)\n",
      "Requirement already satisfied: scipy in /home/zissou/miniconda3/envs/residual_anomaly_detector/lib/python3.8/site-packages (from affe==0.0.0) (1.5.2)\n",
      "Requirement already satisfied: pandas in /home/zissou/miniconda3/envs/residual_anomaly_detector/lib/python3.8/site-packages (from affe==0.0.0) (1.1.1)\n",
      "Collecting lxml\n",
      "  Downloading lxml-4.5.2-cp38-cp38-manylinux1_x86_64.whl (5.4 MB)\n",
      "Collecting requests\n",
      "  Using cached requests-2.24.0-py2.py3-none-any.whl (61 kB)\n",
      "Collecting psutil\n",
      "  Downloading psutil-5.7.2.tar.gz (460 kB)\n",
      "Collecting dill\n",
      "  Downloading dill-0.3.2.zip (177 kB)\n",
      "Requirement already satisfied: tqdm in /home/zissou/miniconda3/envs/residual_anomaly_detector/lib/python3.8/site-packages (from affe==0.0.0) (4.48.2)\n",
      "Requirement already satisfied: dask[distributed] in /home/zissou/miniconda3/envs/residual_anomaly_detector/lib/python3.8/site-packages (from affe==0.0.0) (2.25.0)\n",
      "Requirement already satisfied: python-dateutil>=2.7.3 in /home/zissou/miniconda3/envs/residual_anomaly_detector/lib/python3.8/site-packages (from pandas->affe==0.0.0) (2.8.1)\n",
      "Requirement already satisfied: pytz>=2017.2 in /home/zissou/miniconda3/envs/residual_anomaly_detector/lib/python3.8/site-packages (from pandas->affe==0.0.0) (2020.1)\n",
      "Collecting idna<3,>=2.5\n",
      "  Using cached idna-2.10-py2.py3-none-any.whl (58 kB)\n",
      "Collecting urllib3!=1.25.0,!=1.25.1,<1.26,>=1.21.1\n",
      "  Downloading urllib3-1.25.10-py2.py3-none-any.whl (127 kB)\n",
      "Requirement already satisfied: certifi>=2017.4.17 in /home/zissou/miniconda3/envs/residual_anomaly_detector/lib/python3.8/site-packages (from requests->affe==0.0.0) (2020.6.20)\n",
      "Collecting chardet<4,>=3.0.2\n",
      "  Using cached chardet-3.0.4-py2.py3-none-any.whl (133 kB)\n",
      "Requirement already satisfied: pyyaml in /home/zissou/miniconda3/envs/residual_anomaly_detector/lib/python3.8/site-packages (from dask[distributed]->affe==0.0.0) (5.3.1)\n",
      "Collecting distributed>=2.0; extra == \"distributed\"\n",
      "  Downloading distributed-2.25.0-py3-none-any.whl (652 kB)\n",
      "Requirement already satisfied: six>=1.5 in /home/zissou/miniconda3/envs/residual_anomaly_detector/lib/python3.8/site-packages (from python-dateutil>=2.7.3->pandas->affe==0.0.0) (1.15.0)\n",
      "Collecting tblib>=1.6.0\n",
      "  Downloading tblib-1.7.0-py2.py3-none-any.whl (12 kB)\n",
      "Collecting zict>=0.1.3\n",
      "  Downloading zict-2.0.0-py3-none-any.whl (10 kB)\n",
      "Requirement already satisfied: setuptools in /home/zissou/miniconda3/envs/residual_anomaly_detector/lib/python3.8/site-packages (from distributed>=2.0; extra == \"distributed\"->dask[distributed]->affe==0.0.0) (49.6.0.post20200814)\n",
      "Collecting cloudpickle>=1.5.0\n",
      "  Downloading cloudpickle-1.6.0-py3-none-any.whl (23 kB)\n",
      "Requirement already satisfied: toolz>=0.8.2 in /home/zissou/miniconda3/envs/residual_anomaly_detector/lib/python3.8/site-packages (from distributed>=2.0; extra == \"distributed\"->dask[distributed]->affe==0.0.0) (0.10.0)\n",
      "Collecting sortedcontainers!=2.0.0,!=2.0.1\n",
      "  Downloading sortedcontainers-2.2.2-py2.py3-none-any.whl (29 kB)\n",
      "Collecting click>=6.6\n",
      "  Using cached click-7.1.2-py2.py3-none-any.whl (82 kB)\n",
      "Collecting msgpack>=0.6.0\n",
      "  Downloading msgpack-1.0.0-cp38-cp38-manylinux1_x86_64.whl (303 kB)\n",
      "Requirement already satisfied: tornado>=6.0.3; python_version >= \"3.8\" in /home/zissou/miniconda3/envs/residual_anomaly_detector/lib/python3.8/site-packages (from distributed>=2.0; extra == \"distributed\"->dask[distributed]->affe==0.0.0) (6.0.4)\n",
      "Collecting heapdict\n",
      "  Downloading HeapDict-1.0.1-py3-none-any.whl (3.9 kB)\n",
      "Building wheels for collected packages: affe, psutil, dill\n",
      "  Building wheel for affe (setup.py): started\n",
      "  Building wheel for affe (setup.py): finished with status 'done'\n",
      "  Created wheel for affe: filename=affe-0.0.0-py2.py3-none-any.whl size=48109 sha256=7c4db25c40d986cbd5580c47e958e17ab2584c910d8f1f35175a74993b638c39\n",
      "  Stored in directory: /tmp/pip-ephem-wheel-cache-m4s1t6_l/wheels/f6/27/13/93c167a045f68d90b369d68ce65b85d2def042411d07cce470\n",
      "  Building wheel for psutil (setup.py): started\n",
      "  Building wheel for psutil (setup.py): finished with status 'done'\n",
      "  Created wheel for psutil: filename=psutil-5.7.2-cp38-cp38-linux_x86_64.whl size=293428 sha256=66f8585f3c34c7afbc605753f1369aa343574c6a86645e1f064f550e339a396d\n",
      "  Stored in directory: /home/zissou/.cache/pip/wheels/91/cf/b0/0c9998060b55ca80ea7a50a8639c3bdc6ba886eeff014bc9ac\n",
      "  Building wheel for dill (setup.py): started\n",
      "  Building wheel for dill (setup.py): finished with status 'done'\n",
      "  Created wheel for dill: filename=dill-0.3.2-py3-none-any.whl size=78912 sha256=77b3ffc22f382ae0ff51389b573c4d90de7e4fe437c927f6cd77c043754472ed\n",
      "  Stored in directory: /home/zissou/.cache/pip/wheels/93/7f/7d/78ec535a4340ef2696aad8b17fe8bb063d56301bd62881b069\n",
      "Successfully built affe psutil dill\n",
      "Installing collected packages: lxml, idna, urllib3, chardet, requests, psutil, dill, affe, tblib, heapdict, zict, cloudpickle, sortedcontainers, click, msgpack, distributed\n",
      "Successfully installed affe-0.0.0 chardet-3.0.4 click-7.1.2 cloudpickle-1.6.0 dill-0.3.2 distributed-2.25.0 heapdict-1.0.1 idna-2.10 lxml-4.5.2 msgpack-1.0.0 psutil-5.7.2 requests-2.24.0 sortedcontainers-2.2.2 tblib-1.7.0 urllib3-1.25.10 zict-2.0.0\n"
     ]
    }
   ],
   "source": [
    "%%bash -s \"$name\" \"$root_dir\"\n",
    "\n",
    "source ~/.bashrc\n",
    "\n",
    "cd $2\n",
    "\n",
    "conda activate $1\n",
    "\n",
    "pip install git+https://github.com/eliavw/affe.git"
   ]
  },
  {
   "cell_type": "markdown",
   "metadata": {
    "collapsed": "false"
   },
   "source": [
    "## Development environment\n"
   ]
  },
  {
   "cell_type": "code",
   "execution_count": 6,
   "metadata": {},
   "outputs": [
    {
     "name": "stdout",
     "output_type": "stream",
     "text": [
      "Warning: you have pip-installed dependencies in your environment file, but you do not list pip itself as one of your conda dependencies.  Conda may not use the correct pip to install your packages, and they may end up in the wrong place.  Please add an explicit pip dependency.  I'm adding one for you, but still nagging you.\n",
      "Collecting package metadata (repodata.json): ...working... done\n",
      "Solving environment: ...working... done\n",
      "\n",
      "Downloading and Extracting Packages\n",
      "future-0.18.2        | 632 KB    | ########## | 100% \n",
      "pyopenssl-19.1.0     | 48 KB     | ########## | 100% \n",
      "requests-2.24.0      | 56 KB     | ########## | 100% \n",
      "pysocks-1.7.1        | 28 KB     | ########## | 100% \n",
      "cffi-1.14.2          | 227 KB    | ########## | 100% \n",
      "tqdm-4.48.2          | 63 KB     | ########## | 100% \n",
      "pycparser-2.20       | 94 KB     | ########## | 100% \n",
      "urllib3-1.25.10      | 98 KB     | ########## | 100% \n",
      "importlib-metadata-1 | 52 KB     | ########## | 100% \n",
      "importlib_metadata-1 | 11 KB     | ########## | 100% \n",
      "lunr-0.5.8           | 1023 KB   | ########## | 100% \n",
      "yaml-0.2.5           | 75 KB     | ########## | 100% \n",
      "send2trash-1.5.0     | 17 KB     | ########## | 100% \n",
      "markdown-3.2.2       | 120 KB    | ########## | 100% \n",
      "jinja2-2.11.2        | 103 KB    | ########## | 100% \n",
      "notebook-6.1.1       | 4.0 MB    | ########## | 100% \n",
      "brotlipy-0.7.0       | 322 KB    | ########## | 100% \n",
      "pymdown-extensions-8 | 131 KB    | ########## | 100% \n",
      "idna-2.10            | 50 KB     | ########## | 100% \n",
      "testpath-0.4.4       | 82 KB     | ########## | 100% \n",
      "packaging-20.4       | 36 KB     | ########## | 100% \n",
      "entrypoints-0.3      | 10 KB     | ########## | 100% \n",
      "py-1.9.0             | 79 KB     | ########## | 100% \n",
      "mkdocs-material-5.5. | 1.9 MB    | ########## | 100% \n",
      "nbformat-5.0.7       | 89 KB     | ########## | 100% \n",
      "bleach-3.1.5         | 116 KB    | ########## | 100% \n",
      "cryptography-3.1     | 564 KB    | ########## | 100% \n",
      "nbconvert-5.6.1      | 456 KB    | ########## | 100% \n",
      "nltk-3.5             | 976 KB    | ########## | 100% \n",
      "zipp-3.1.0           | 13 KB     | ########## | 100% \n",
      "python_abi-3.8       | 4 KB      | ########## | 100% \n",
      "terminado-0.8.3      | 26 KB     | ########## | 100% \n",
      "pyparsing-2.4.7      | 65 KB     | ########## | 100% \n",
      "ipython-7.18.1       | 1008 KB   | ########## | 100% \n",
      "livereload-2.6.3     | 24 KB     | ########## | 100% \n",
      "markupsafe-1.1.1     | 33 KB     | ########## | 100% \n",
      "pandocfilters-1.4.2  | 13 KB     | ########## | 100% \n",
      "defusedxml-0.6.0     | 23 KB     | ########## | 100% \n",
      "chardet-3.0.4        | 174 KB    | ########## | 100% \n",
      "prometheus_client-0. | 47 KB     | ########## | 100% \n",
      "jupyterlab_server-1. | 25 KB     | ########## | 100% \n",
      "pluggy-0.13.1        | 33 KB     | ########## | 100% \n",
      "jedi-0.17.2          | 919 KB    | ########## | 100% \n",
      "pyyaml-5.3.1         | 185 KB    | ########## | 100% \n",
      "joblib-0.16.0        | 210 KB    | ########## | 100% \n",
      "jsonschema-3.2.0     | 96 KB     | ########## | 100% \n",
      "iniconfig-1.0.1      | 8 KB      | ########## | 100% \n",
      "webencodings-0.5.1   | 20 KB     | ########## | 100% \n",
      "json5-0.9.5          | 22 KB     | ########## | 100% \n",
      "prompt-toolkit-3.0.7 | 248 KB    | ########## | 100% \n",
      "pyrsistent-0.16.0    | 95 KB     | ########## | 100% \n",
      "pytest-6.0.1         | 422 KB    | ########## | 100% \n",
      "jupyterlab-2.2.6     | 3.4 MB    | ########## | 100% \n",
      "mistune-0.8.4        | 55 KB     | ########## | 100% \n",
      "argon2-cffi-20.1.0   | 46 KB     | ########## | 100% \n",
      "more-itertools-8.5.0 | 43 KB     | ########## | 100% \n",
      "pandoc-2.10.1        | 12.7 MB   | ########## | 100% \n",
      "attrs-20.1.0         | 47 KB     | ########## | 100% \n",
      "mkdocs-1.1.2         | 5.7 MB    | ########## | 100% \n",
      "Preparing transaction: ...working... done\n",
      "Verifying transaction: ...working... done\n",
      "Executing transaction: ...working... done\n",
      "Installing pip dependencies: ...working... Ran pip subprocess with arguments:\n",
      "['/home/zissou/miniconda3/envs/residual_anomaly_detector/bin/python', '-m', 'pip', 'install', '-U', '-r', '/home/zissou/repos/residual-anomaly-detector/condaenv.rdg_kn8o.requirements.txt']\n",
      "Pip subprocess output:\n",
      "Collecting semantic-version\n",
      "  Using cached semantic_version-2.8.5-py2.py3-none-any.whl (15 kB)\n",
      "Requirement already up-to-date: ipykernel in /home/zissou/miniconda3/envs/residual_anomaly_detector/lib/python3.8/site-packages (from -r /home/zissou/repos/residual-anomaly-detector/condaenv.rdg_kn8o.requirements.txt (line 2)) (5.3.4)\n",
      "Collecting mkdocs-minify-plugin\n",
      "  Downloading mkdocs-minify-plugin-0.3.0.tar.gz (3.1 kB)\n",
      "Requirement already up-to-date: pymdown-extensions in /home/zissou/miniconda3/envs/residual_anomaly_detector/lib/python3.8/site-packages (from -r /home/zissou/repos/residual-anomaly-detector/condaenv.rdg_kn8o.requirements.txt (line 4)) (8.0)\n",
      "Processing /home/zissou/.cache/pip/wheels/a6/5e/1e/a15614d6ea220d070043db3b650d73a8b4938aefd520496c11/nb_black-1.0.7-py3-none-any.whl\n",
      "Requirement already satisfied, skipping upgrade: tornado>=4.2 in /home/zissou/miniconda3/envs/residual_anomaly_detector/lib/python3.8/site-packages (from ipykernel->-r /home/zissou/repos/residual-anomaly-detector/condaenv.rdg_kn8o.requirements.txt (line 2)) (6.0.4)\n",
      "Requirement already satisfied, skipping upgrade: traitlets>=4.1.0 in /home/zissou/miniconda3/envs/residual_anomaly_detector/lib/python3.8/site-packages (from ipykernel->-r /home/zissou/repos/residual-anomaly-detector/condaenv.rdg_kn8o.requirements.txt (line 2)) (5.0.2)\n",
      "Requirement already satisfied, skipping upgrade: ipython>=5.0.0 in /home/zissou/miniconda3/envs/residual_anomaly_detector/lib/python3.8/site-packages (from ipykernel->-r /home/zissou/repos/residual-anomaly-detector/condaenv.rdg_kn8o.requirements.txt (line 2)) (7.18.1)\n",
      "Requirement already satisfied, skipping upgrade: jupyter-client in /home/zissou/miniconda3/envs/residual_anomaly_detector/lib/python3.8/site-packages (from ipykernel->-r /home/zissou/repos/residual-anomaly-detector/condaenv.rdg_kn8o.requirements.txt (line 2)) (6.1.6)\n",
      "Requirement already satisfied, skipping upgrade: mkdocs>=1.0.4 in /home/zissou/miniconda3/envs/residual_anomaly_detector/lib/python3.8/site-packages (from mkdocs-minify-plugin->-r /home/zissou/repos/residual-anomaly-detector/condaenv.rdg_kn8o.requirements.txt (line 3)) (1.1.2)\n",
      "Collecting htmlmin>=0.1.4\n",
      "  Downloading htmlmin-0.1.12.tar.gz (19 kB)\n",
      "Collecting jsmin>=2.2.2\n",
      "  Downloading jsmin-2.2.2.tar.gz (12 kB)\n",
      "Requirement already satisfied, skipping upgrade: Markdown>=3.2 in /home/zissou/miniconda3/envs/residual_anomaly_detector/lib/python3.8/site-packages (from pymdown-extensions->-r /home/zissou/repos/residual-anomaly-detector/condaenv.rdg_kn8o.requirements.txt (line 4)) (3.2.2)\n",
      "Collecting black>='19.3'; python_version >= \"3.6\"\n",
      "  Downloading black-20.8b1-py3-none-any.whl (164 kB)\n",
      "Requirement already satisfied, skipping upgrade: ipython-genutils in /home/zissou/miniconda3/envs/residual_anomaly_detector/lib/python3.8/site-packages (from traitlets>=4.1.0->ipykernel->-r /home/zissou/repos/residual-anomaly-detector/condaenv.rdg_kn8o.requirements.txt (line 2)) (0.2.0)\n",
      "Requirement already satisfied, skipping upgrade: setuptools>=18.5 in /home/zissou/miniconda3/envs/residual_anomaly_detector/lib/python3.8/site-packages (from ipython>=5.0.0->ipykernel->-r /home/zissou/repos/residual-anomaly-detector/condaenv.rdg_kn8o.requirements.txt (line 2)) (49.6.0.post20200814)\n",
      "Requirement already satisfied, skipping upgrade: pygments in /home/zissou/miniconda3/envs/residual_anomaly_detector/lib/python3.8/site-packages (from ipython>=5.0.0->ipykernel->-r /home/zissou/repos/residual-anomaly-detector/condaenv.rdg_kn8o.requirements.txt (line 2)) (2.6.1)\n",
      "Requirement already satisfied, skipping upgrade: decorator in /home/zissou/miniconda3/envs/residual_anomaly_detector/lib/python3.8/site-packages (from ipython>=5.0.0->ipykernel->-r /home/zissou/repos/residual-anomaly-detector/condaenv.rdg_kn8o.requirements.txt (line 2)) (4.4.2)\n",
      "Requirement already satisfied, skipping upgrade: backcall in /home/zissou/miniconda3/envs/residual_anomaly_detector/lib/python3.8/site-packages (from ipython>=5.0.0->ipykernel->-r /home/zissou/repos/residual-anomaly-detector/condaenv.rdg_kn8o.requirements.txt (line 2)) (0.2.0)\n",
      "Requirement already satisfied, skipping upgrade: pexpect>4.3; sys_platform != \"win32\" in /home/zissou/miniconda3/envs/residual_anomaly_detector/lib/python3.8/site-packages (from ipython>=5.0.0->ipykernel->-r /home/zissou/repos/residual-anomaly-detector/condaenv.rdg_kn8o.requirements.txt (line 2)) (4.8.0)\n",
      "Requirement already satisfied, skipping upgrade: prompt-toolkit!=3.0.0,!=3.0.1,<3.1.0,>=2.0.0 in /home/zissou/miniconda3/envs/residual_anomaly_detector/lib/python3.8/site-packages (from ipython>=5.0.0->ipykernel->-r /home/zissou/repos/residual-anomaly-detector/condaenv.rdg_kn8o.requirements.txt (line 2)) (3.0.7)\n",
      "Requirement already satisfied, skipping upgrade: jedi>=0.10 in /home/zissou/miniconda3/envs/residual_anomaly_detector/lib/python3.8/site-packages (from ipython>=5.0.0->ipykernel->-r /home/zissou/repos/residual-anomaly-detector/condaenv.rdg_kn8o.requirements.txt (line 2)) (0.17.2)\n",
      "Requirement already satisfied, skipping upgrade: pickleshare in /home/zissou/miniconda3/envs/residual_anomaly_detector/lib/python3.8/site-packages (from ipython>=5.0.0->ipykernel->-r /home/zissou/repos/residual-anomaly-detector/condaenv.rdg_kn8o.requirements.txt (line 2)) (0.7.5)\n",
      "Requirement already satisfied, skipping upgrade: python-dateutil>=2.1 in /home/zissou/miniconda3/envs/residual_anomaly_detector/lib/python3.8/site-packages (from jupyter-client->ipykernel->-r /home/zissou/repos/residual-anomaly-detector/condaenv.rdg_kn8o.requirements.txt (line 2)) (2.8.1)\n",
      "Requirement already satisfied, skipping upgrade: jupyter-core>=4.6.0 in /home/zissou/miniconda3/envs/residual_anomaly_detector/lib/python3.8/site-packages (from jupyter-client->ipykernel->-r /home/zissou/repos/residual-anomaly-detector/condaenv.rdg_kn8o.requirements.txt (line 2)) (4.6.3)\n",
      "Requirement already satisfied, skipping upgrade: pyzmq>=13 in /home/zissou/miniconda3/envs/residual_anomaly_detector/lib/python3.8/site-packages (from jupyter-client->ipykernel->-r /home/zissou/repos/residual-anomaly-detector/condaenv.rdg_kn8o.requirements.txt (line 2)) (19.0.1)\n",
      "Requirement already satisfied, skipping upgrade: lunr[languages]==0.5.8 in /home/zissou/miniconda3/envs/residual_anomaly_detector/lib/python3.8/site-packages (from mkdocs>=1.0.4->mkdocs-minify-plugin->-r /home/zissou/repos/residual-anomaly-detector/condaenv.rdg_kn8o.requirements.txt (line 3)) (0.5.8)\n",
      "Requirement already satisfied, skipping upgrade: PyYAML>=3.10 in /home/zissou/miniconda3/envs/residual_anomaly_detector/lib/python3.8/site-packages (from mkdocs>=1.0.4->mkdocs-minify-plugin->-r /home/zissou/repos/residual-anomaly-detector/condaenv.rdg_kn8o.requirements.txt (line 3)) (5.3.1)\n",
      "Requirement already satisfied, skipping upgrade: click>=3.3 in /home/zissou/miniconda3/envs/residual_anomaly_detector/lib/python3.8/site-packages (from mkdocs>=1.0.4->mkdocs-minify-plugin->-r /home/zissou/repos/residual-anomaly-detector/condaenv.rdg_kn8o.requirements.txt (line 3)) (7.1.2)\n",
      "Requirement already satisfied, skipping upgrade: Jinja2>=2.10.1 in /home/zissou/miniconda3/envs/residual_anomaly_detector/lib/python3.8/site-packages (from mkdocs>=1.0.4->mkdocs-minify-plugin->-r /home/zissou/repos/residual-anomaly-detector/condaenv.rdg_kn8o.requirements.txt (line 3)) (2.11.2)\n",
      "Requirement already satisfied, skipping upgrade: livereload>=2.5.1 in /home/zissou/miniconda3/envs/residual_anomaly_detector/lib/python3.8/site-packages (from mkdocs>=1.0.4->mkdocs-minify-plugin->-r /home/zissou/repos/residual-anomaly-detector/condaenv.rdg_kn8o.requirements.txt (line 3)) (2.6.3)\n",
      "Collecting appdirs\n",
      "  Using cached appdirs-1.4.4-py2.py3-none-any.whl (9.6 kB)\n",
      "Collecting typing-extensions>=3.7.4\n",
      "  Downloading typing_extensions-3.7.4.3-py3-none-any.whl (22 kB)\n",
      "Collecting mypy-extensions>=0.4.3\n",
      "  Downloading mypy_extensions-0.4.3-py2.py3-none-any.whl (4.5 kB)\n",
      "Collecting pathspec<1,>=0.6\n",
      "  Using cached pathspec-0.8.0-py2.py3-none-any.whl (28 kB)\n",
      "Requirement already satisfied, skipping upgrade: regex>=2020.1.8 in /home/zissou/miniconda3/envs/residual_anomaly_detector/lib/python3.8/site-packages (from black>='19.3'; python_version >= \"3.6\"->nb-black->-r /home/zissou/repos/residual-anomaly-detector/condaenv.rdg_kn8o.requirements.txt (line 5)) (2020.7.14)\n",
      "Collecting typed-ast>=1.4.0\n",
      "  Using cached typed_ast-1.4.1-cp38-cp38-manylinux1_x86_64.whl (768 kB)\n",
      "Requirement already satisfied, skipping upgrade: toml>=0.10.1 in /home/zissou/.local/lib/python3.8/site-packages (from black>='19.3'; python_version >= \"3.6\"->nb-black->-r /home/zissou/repos/residual-anomaly-detector/condaenv.rdg_kn8o.requirements.txt (line 5)) (0.10.1)\n",
      "Requirement already satisfied, skipping upgrade: ptyprocess>=0.5 in /home/zissou/miniconda3/envs/residual_anomaly_detector/lib/python3.8/site-packages (from pexpect>4.3; sys_platform != \"win32\"->ipython>=5.0.0->ipykernel->-r /home/zissou/repos/residual-anomaly-detector/condaenv.rdg_kn8o.requirements.txt (line 2)) (0.6.0)\n",
      "Requirement already satisfied, skipping upgrade: wcwidth in /home/zissou/miniconda3/envs/residual_anomaly_detector/lib/python3.8/site-packages (from prompt-toolkit!=3.0.0,!=3.0.1,<3.1.0,>=2.0.0->ipython>=5.0.0->ipykernel->-r /home/zissou/repos/residual-anomaly-detector/condaenv.rdg_kn8o.requirements.txt (line 2)) (0.2.5)\n",
      "Requirement already satisfied, skipping upgrade: parso<0.8.0,>=0.7.0 in /home/zissou/miniconda3/envs/residual_anomaly_detector/lib/python3.8/site-packages (from jedi>=0.10->ipython>=5.0.0->ipykernel->-r /home/zissou/repos/residual-anomaly-detector/condaenv.rdg_kn8o.requirements.txt (line 2)) (0.7.1)\n",
      "Requirement already satisfied, skipping upgrade: six>=1.5 in /home/zissou/miniconda3/envs/residual_anomaly_detector/lib/python3.8/site-packages (from python-dateutil>=2.1->jupyter-client->ipykernel->-r /home/zissou/repos/residual-anomaly-detector/condaenv.rdg_kn8o.requirements.txt (line 2)) (1.15.0)\n",
      "Requirement already satisfied, skipping upgrade: future>=0.16.0 in /home/zissou/miniconda3/envs/residual_anomaly_detector/lib/python3.8/site-packages (from lunr[languages]==0.5.8->mkdocs>=1.0.4->mkdocs-minify-plugin->-r /home/zissou/repos/residual-anomaly-detector/condaenv.rdg_kn8o.requirements.txt (line 3)) (0.18.2)\n",
      "Requirement already satisfied, skipping upgrade: nltk>=3.2.5; python_version > \"2.7\" and extra == \"languages\" in /home/zissou/miniconda3/envs/residual_anomaly_detector/lib/python3.8/site-packages (from lunr[languages]==0.5.8->mkdocs>=1.0.4->mkdocs-minify-plugin->-r /home/zissou/repos/residual-anomaly-detector/condaenv.rdg_kn8o.requirements.txt (line 3)) (3.5)\n",
      "Requirement already satisfied, skipping upgrade: MarkupSafe>=0.23 in /home/zissou/miniconda3/envs/residual_anomaly_detector/lib/python3.8/site-packages (from Jinja2>=2.10.1->mkdocs>=1.0.4->mkdocs-minify-plugin->-r /home/zissou/repos/residual-anomaly-detector/condaenv.rdg_kn8o.requirements.txt (line 3)) (1.1.1)\n",
      "Requirement already satisfied, skipping upgrade: joblib in /home/zissou/miniconda3/envs/residual_anomaly_detector/lib/python3.8/site-packages (from nltk>=3.2.5; python_version > \"2.7\" and extra == \"languages\"->lunr[languages]==0.5.8->mkdocs>=1.0.4->mkdocs-minify-plugin->-r /home/zissou/repos/residual-anomaly-detector/condaenv.rdg_kn8o.requirements.txt (line 3)) (0.16.0)\n",
      "Requirement already satisfied, skipping upgrade: tqdm in /home/zissou/miniconda3/envs/residual_anomaly_detector/lib/python3.8/site-packages (from nltk>=3.2.5; python_version > \"2.7\" and extra == \"languages\"->lunr[languages]==0.5.8->mkdocs>=1.0.4->mkdocs-minify-plugin->-r /home/zissou/repos/residual-anomaly-detector/condaenv.rdg_kn8o.requirements.txt (line 3)) (4.48.2)\n",
      "Building wheels for collected packages: mkdocs-minify-plugin, htmlmin, jsmin\n",
      "  Building wheel for mkdocs-minify-plugin (setup.py): started\n",
      "  Building wheel for mkdocs-minify-plugin (setup.py): finished with status 'done'\n",
      "  Created wheel for mkdocs-minify-plugin: filename=mkdocs_minify_plugin-0.3.0-py3-none-any.whl size=3070 sha256=cf01ed1032a20b8a73faa0996f2cd98a4be1559f5189b2b97ad8b7168190df38\n",
      "  Stored in directory: /home/zissou/.cache/pip/wheels/89/1a/4a/d3444421bc2e9a97ba55516090c6db2f4eb2c1a9e3e50a5265\n",
      "  Building wheel for htmlmin (setup.py): started\n",
      "  Building wheel for htmlmin (setup.py): finished with status 'done'\n",
      "  Created wheel for htmlmin: filename=htmlmin-0.1.12-py3-none-any.whl size=27084 sha256=b193fdbba46261560985b50baa49e33ab5e20ab5f51f682f0cb0a89bec0b1265\n",
      "  Stored in directory: /home/zissou/.cache/pip/wheels/23/14/6e/4be5bfeeb027f4939a01764b48edd5996acf574b0913fe5243\n",
      "  Building wheel for jsmin (setup.py): started\n",
      "  Building wheel for jsmin (setup.py): finished with status 'done'\n",
      "  Created wheel for jsmin: filename=jsmin-2.2.2-py3-none-any.whl size=13919 sha256=935df7316d62170ffa5cad5e2dd4ef7ec72ae12574c7e35f8e56fa74f2dc2a07\n",
      "  Stored in directory: /home/zissou/.cache/pip/wheels/65/b7/04/fc4b059d177fd88f3ca362ad372a15e364b0c5433121c7b135\n",
      "Successfully built mkdocs-minify-plugin htmlmin jsmin\n",
      "Installing collected packages: semantic-version, htmlmin, jsmin, mkdocs-minify-plugin, appdirs, typing-extensions, mypy-extensions, pathspec, typed-ast, black, nb-black\n",
      "Successfully installed appdirs-1.4.4 black-20.8b1 htmlmin-0.1.12 jsmin-2.2.2 mkdocs-minify-plugin-0.3.0 mypy-extensions-0.4.3 nb-black-1.0.7 pathspec-0.8.0 semantic-version-2.8.5 typed-ast-1.4.1 typing-extensions-3.7.4.3\n",
      "\n",
      "done\n",
      "#\n",
      "# To activate this environment, use\n",
      "#\n",
      "#     $ conda activate residual_anomaly_detector\n",
      "#\n",
      "# To deactivate an active environment, use\n",
      "#\n",
      "#     $ conda deactivate\n",
      "\n"
     ]
    }
   ],
   "source": [
    "%%bash -s \"$name\" \"$root_dir\" \"$fn_conda_dev\"\n",
    "\n",
    "source ~/.bashrc\n",
    "\n",
    "cd $2\n",
    "\n",
    "conda activate $1\n",
    "\n",
    "conda env update -n $1 -f $3"
   ]
  },
  {
   "cell_type": "markdown",
   "metadata": {
    "collapsed": "false"
   },
   "source": [
    "### Install residual_anomaly_detector\n",
    "\n",
    "Installing the source code of this repo as a package itself. This is often quite useful."
   ]
  },
  {
   "cell_type": "code",
   "execution_count": 7,
   "metadata": {},
   "outputs": [
    {
     "name": "stdout",
     "output_type": "stream",
     "text": [
      "running develop\n",
      "running egg_info\n",
      "creating src/residual_anomaly_detector.egg-info\n",
      "writing src/residual_anomaly_detector.egg-info/PKG-INFO\n",
      "writing dependency_links to src/residual_anomaly_detector.egg-info/dependency_links.txt\n",
      "writing requirements to src/residual_anomaly_detector.egg-info/requires.txt\n",
      "writing top-level names to src/residual_anomaly_detector.egg-info/top_level.txt\n",
      "writing manifest file 'src/residual_anomaly_detector.egg-info/SOURCES.txt'\n",
      "reading manifest file 'src/residual_anomaly_detector.egg-info/SOURCES.txt'\n",
      "writing manifest file 'src/residual_anomaly_detector.egg-info/SOURCES.txt'\n",
      "running build_ext\n",
      "Creating /home/zissou/miniconda3/envs/residual_anomaly_detector/lib/python3.8/site-packages/residual-anomaly-detector.egg-link (link to src)\n",
      "Adding residual-anomaly-detector 0.0.0 to easy-install.pth file\n",
      "\n",
      "Installed /home/zissou/repos/residual-anomaly-detector/src\n",
      "Processing dependencies for residual-anomaly-detector==0.0.0\n",
      "Searching for pandas==1.1.1\n",
      "Best match: pandas 1.1.1\n",
      "Adding pandas 1.1.1 to easy-install.pth file\n",
      "\n",
      "Using /home/zissou/miniconda3/envs/residual_anomaly_detector/lib/python3.8/site-packages\n",
      "Searching for scipy==1.5.2\n",
      "Best match: scipy 1.5.2\n",
      "Adding scipy 1.5.2 to easy-install.pth file\n",
      "\n",
      "Using /home/zissou/miniconda3/envs/residual_anomaly_detector/lib/python3.8/site-packages\n",
      "Searching for numpy==1.19.1\n",
      "Best match: numpy 1.19.1\n",
      "Adding numpy 1.19.1 to easy-install.pth file\n",
      "Installing f2py script to /home/zissou/miniconda3/envs/residual_anomaly_detector/bin\n",
      "Installing f2py3 script to /home/zissou/miniconda3/envs/residual_anomaly_detector/bin\n",
      "Installing f2py3.8 script to /home/zissou/miniconda3/envs/residual_anomaly_detector/bin\n",
      "\n",
      "Using /home/zissou/miniconda3/envs/residual_anomaly_detector/lib/python3.8/site-packages\n",
      "Searching for python-dateutil==2.8.1\n",
      "Best match: python-dateutil 2.8.1\n",
      "Adding python-dateutil 2.8.1 to easy-install.pth file\n",
      "\n",
      "Using /home/zissou/miniconda3/envs/residual_anomaly_detector/lib/python3.8/site-packages\n",
      "Searching for pytz==2020.1\n",
      "Best match: pytz 2020.1\n",
      "Adding pytz 2020.1 to easy-install.pth file\n",
      "\n",
      "Using /home/zissou/miniconda3/envs/residual_anomaly_detector/lib/python3.8/site-packages\n",
      "Searching for six==1.15.0\n",
      "Best match: six 1.15.0\n",
      "Adding six 1.15.0 to easy-install.pth file\n",
      "\n",
      "Using /home/zissou/miniconda3/envs/residual_anomaly_detector/lib/python3.8/site-packages\n",
      "Finished processing dependencies for residual-anomaly-detector==0.0.0\n"
     ]
    }
   ],
   "source": [
    "%%bash -s \"$name\" \"$root_dir\" \"$fn_conda_dev\"\n",
    "\n",
    "source ~/.bashrc\n",
    "\n",
    "cd $2\n",
    "\n",
    "conda activate $1\n",
    "\n",
    "python setup.py develop"
   ]
  },
  {
   "cell_type": "markdown",
   "metadata": {
    "collapsed": "false"
   },
   "source": [
    "## Jupyter kernel\n",
    "\n",
    "Expose the environment to your jupyter."
   ]
  },
  {
   "cell_type": "code",
   "execution_count": 8,
   "metadata": {},
   "outputs": [
    {
     "name": "stdout",
     "output_type": "stream",
     "text": [
      "Installed kernelspec residual_anomaly_detector in /home/zissou/.local/share/jupyter/kernels/residual_anomaly_detector\n"
     ]
    }
   ],
   "source": [
    "%%bash -s \"$name\" \"$root_dir\" \"$fn_conda_dep\"\n",
    "\n",
    "source ~/.bashrc\n",
    "\n",
    "cd $2\n",
    "\n",
    "conda activate $1\n",
    "python -m ipykernel install --user --name $1 --display-name \"$1\""
   ]
  }
 ],
 "metadata": {
  "kernelspec": {
   "display_name": "Python 3",
   "language": "python",
   "name": "python3"
  },
  "language_info": {
   "codemirror_mode": {
    "name": "ipython",
    "version": 3
   },
   "file_extension": ".py",
   "mimetype": "text/x-python",
   "name": "python",
   "nbconvert_exporter": "python",
   "pygments_lexer": "ipython3",
   "version": "3.7.7"
  },
  "toc-autonumbering": true
 },
 "nbformat": 4,
 "nbformat_minor": 4
}
